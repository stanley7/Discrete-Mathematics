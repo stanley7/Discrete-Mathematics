{
  "nbformat": 4,
  "nbformat_minor": 0,
  "metadata": {
    "colab": {
      "name": "Sympy_introduction.ipynb",
      "provenance": [],
      "collapsed_sections": []
    },
    "kernelspec": {
      "name": "python3",
      "display_name": "Python 3"
    },
    "language_info": {
      "name": "python"
    }
  },
  "cells": [
    {
      "cell_type": "markdown",
      "source": [
        "## Introduction to Sympy"
      ],
      "metadata": {
        "id": "LrNO6He7dS7z"
      }
    },
    {
      "cell_type": "code",
      "execution_count": 1,
      "metadata": {
        "id": "3bGh7WG6c61c"
      },
      "outputs": [],
      "source": [
        "# import the sympy package \n",
        "import sympy as sym\n",
        "\n",
        "# import additional functions for nice printing\n",
        "from IPython.display import display, Math"
      ]
    },
    {
      "cell_type": "code",
      "source": [
        "# create symbolic variable\n",
        "\n",
        "x = sym.symbols('x')\n",
        "y = sym.symbols('y')\n",
        "a,b,c = sym.symbols('a,b,c')\n",
        "print(type(x))\n",
        "print(type(a))\n",
        "print(type(b))\n",
        "print(type(c))"
      ],
      "metadata": {
        "colab": {
          "base_uri": "https://localhost:8080/"
        },
        "id": "GR69vsvgenT6",
        "outputId": "a6d51186-44b9-4bcd-e4cc-ccd9da8623f3"
      },
      "execution_count": 5,
      "outputs": [
        {
          "output_type": "stream",
          "name": "stdout",
          "text": [
            "<class 'sympy.core.symbol.Symbol'>\n",
            "<class 'sympy.core.symbol.Symbol'>\n",
            "<class 'sympy.core.symbol.Symbol'>\n",
            "<class 'sympy.core.symbol.Symbol'>\n"
          ]
        }
      ]
    },
    {
      "cell_type": "code",
      "source": [
        "# x doesn't have a value, it's just a symbol\n",
        "\n",
        "x + 4"
      ],
      "metadata": {
        "colab": {
          "base_uri": "https://localhost:8080/",
          "height": 39
        },
        "id": "mufLIdsVe2PD",
        "outputId": "16a44482-7274-4432-9f2b-284967e7376d"
      },
      "execution_count": null,
      "outputs": [
        {
          "output_type": "execute_result",
          "data": {
            "text/plain": [
              "x + 4"
            ],
            "image/png": "[encoded data removed]",
            "text/latex": "$\\displaystyle x + 4$"
          },
          "metadata": {},
          "execution_count": 65
        }
      ]
    },
    {
      "cell_type": "code",
      "source": [
        "# Fancy printing\n",
        "\n",
        "sym.init_printing()\n",
        "x+4"
      ],
      "metadata": {
        "colab": {
          "base_uri": "https://localhost:8080/",
          "height": 39
        },
        "id": "rqoXqu8dfIVK",
        "outputId": "171c50e2-4fd5-40b1-90ae-9e3da0c5c311"
      },
      "execution_count": null,
      "outputs": [
        {
          "output_type": "execute_result",
          "data": {
            "text/plain": [
              "x + 4"
            ],
            "image/png": "[encoded data removed]",
            "text/latex": "$\\displaystyle x + 4$"
          },
          "metadata": {},
          "execution_count": 66
        }
      ]
    },
    {
      "cell_type": "code",
      "source": [
        "# display function\n",
        "\n",
        "display(x**4)\n",
        "display(x*4)\n",
        "display(x/4)\n",
        "display(sym.sqrt(4)*x)\n",
        "display(sym.sqrt(2))\n",
        "display(y*x**2)\n",
        "display(sym.sqrt(x)*sym.sqrt(x))"
      ],
      "metadata": {
        "colab": {
          "base_uri": "https://localhost:8080/",
          "height": 177
        },
        "id": "LtYAEtHzq_h7",
        "outputId": "56cbfbce-81fe-4155-d005-6b419417b70a"
      },
      "execution_count": null,
      "outputs": [
        {
          "output_type": "display_data",
          "data": {
            "text/plain": [
              " 4\n",
              "x "
            ],
            "image/png": "[encoded data removed]",
            "text/latex": "$\\displaystyle x^{4}$"
          },
          "metadata": {}
        },
        {
          "output_type": "display_data",
          "data": {
            "text/plain": [
              "4⋅x"
            ],
            "image/png": "[encoded data removed]",
            "text/latex": "$\\displaystyle 4 x$"
          },
          "metadata": {}
        },
        {
          "output_type": "display_data",
          "data": {
            "text/plain": [
              "x\n",
              "─\n",
              "4"
            ],
            "image/png": "[encoded data removed]",
            "text/latex": "$\\displaystyle \\frac{x}{4}$"
          },
          "metadata": {}
        },
        {
          "output_type": "display_data",
          "data": {
            "text/plain": [
              "2⋅x"
            ],
            "image/png": "[encoded data removed]",
            "text/latex": "$\\displaystyle 2 x$"
          },
          "metadata": {}
        },
        {
          "output_type": "display_data",
          "data": {
            "text/plain": [
              "√2"
            ],
            "image/png": "[encoded data removed]",
            "text/latex": "$\\displaystyle \\sqrt{2}$"
          },
          "metadata": {}
        },
        {
          "output_type": "display_data",
          "data": {
            "text/plain": [
              " 2  \n",
              "x ⋅y"
            ],
            "image/png": "[encoded data removed]",
            "text/latex": "$\\displaystyle x^{2} y$"
          },
          "metadata": {}
        },
        {
          "output_type": "display_data",
          "data": {
            "text/plain": [
              "x"
            ],
            "image/png": "[encoded data removed]",
            "text/latex": "$\\displaystyle x$"
          },
          "metadata": {}
        }
      ]
    },
    {
      "cell_type": "code",
      "source": [
        "# let's compare with numpy\n",
        "\n",
        "import numpy as np\n",
        "display(np.sqrt(2))\n",
        "display(sym.sqrt(2))"
      ],
      "metadata": {
        "colab": {
          "base_uri": "https://localhost:8080/",
          "height": 58
        },
        "id": "C15pgbg2rF0D",
        "outputId": "30d40788-462d-4d43-a759-d35acf67d68f"
      },
      "execution_count": null,
      "outputs": [
        {
          "output_type": "display_data",
          "data": {
            "text/plain": [
              "1.4142135623730951"
            ],
            "image/png": "[encoded data removed]",
            "text/latex": "$\\displaystyle 1.4142135623731$"
          },
          "metadata": {}
        },
        {
          "output_type": "display_data",
          "data": {
            "text/plain": [
              "√2"
            ],
            "image/png": "[encoded data removed]",
            "text/latex": "$\\displaystyle \\sqrt{2}$"
          },
          "metadata": {}
        }
      ]
    },
    {
      "cell_type": "code",
      "source": [
        "mu, sigma, alpha = sym.symbols('mu, sigma, alpha')\n",
        "expr = sym.exp((mu-alpha)**2 / (2*sigma**2))\n",
        "display(expr)"
      ],
      "metadata": {
        "id": "iHv7-QPO1LJR",
        "colab": {
          "base_uri": "https://localhost:8080/",
          "height": 46
        },
        "outputId": "cee70e15-75e1-47bf-e06d-75871dd9d86a"
      },
      "execution_count": 6,
      "outputs": [
        {
          "output_type": "display_data",
          "data": {
            "text/plain": [
              "exp((-alpha + mu)**2/(2*sigma**2))"
            ],
            "text/latex": "$\\displaystyle e^{\\frac{\\left(- \\alpha + \\mu\\right)^{2}}{2 \\sigma^{2}}}$"
          },
          "metadata": {}
        }
      ]
    },
    {
      "cell_type": "code",
      "source": [
        "# substitute values for symbolic variables\n",
        "\n",
        "x,y,z = sym.symbols('x,y,z')\n",
        "expr = x + y + z\n",
        "expr.subs({x:2, y:3, z:4})"
      ],
      "metadata": {
        "colab": {
          "base_uri": "https://localhost:8080/",
          "height": 37
        },
        "id": "w6x_qYFomd6k",
        "outputId": "7b0a9a6f-c5e3-417e-f540-003f33d21986"
      },
      "execution_count": 11,
      "outputs": [
        {
          "output_type": "execute_result",
          "data": {
            "text/plain": [
              "9"
            ],
            "text/latex": "$\\displaystyle 9$"
          },
          "metadata": {},
          "execution_count": 11
        }
      ]
    },
    {
      "cell_type": "code",
      "source": [
        "# to get the LaTeX code of an expression\n",
        "\n",
        "ex = 3/y\n",
        "sym.latex(ex)"
      ],
      "metadata": {
        "colab": {
          "base_uri": "https://localhost:8080/",
          "height": 35
        },
        "id": "x7UvUmHynmyN",
        "outputId": "aded9fcc-e23e-4f9b-ab4f-5de5b7c4c80e"
      },
      "execution_count": 22,
      "outputs": [
        {
          "output_type": "execute_result",
          "data": {
            "text/plain": [
              "'\\\\frac{3}{y}'"
            ],
            "application/vnd.google.colaboratory.intrinsic+json": {
              "type": "string"
            }
          },
          "metadata": {},
          "execution_count": 22
        }
      ]
    },
    {
      "cell_type": "code",
      "source": [
        "# right arrow \n",
        "expr = x**2 + 4\n",
        "display(Math('\\\\text{with } x=%g, \\\\quad x^2+4 \\\\quad \\\\Rightarrow \\\\quad %g^2+4=%g'%(-2,-2, expr.subs({x:-2}))))"
      ],
      "metadata": {
        "colab": {
          "base_uri": "https://localhost:8080/",
          "height": 39
        },
        "id": "HpJNDKlzouzb",
        "outputId": "728d4ca1-492e-4667-a33f-d8e71311a4e1"
      },
      "execution_count": 16,
      "outputs": [
        {
          "output_type": "display_data",
          "data": {
            "text/plain": [
              "<IPython.core.display.Math object>"
            ],
            "text/latex": "$$\\text{with } x=-2, \\quad x^2+4 \\quad \\Rightarrow \\quad -2^2+4=8$$"
          },
          "metadata": {}
        }
      ]
    }
  ]
}