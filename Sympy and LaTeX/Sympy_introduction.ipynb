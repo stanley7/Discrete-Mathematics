{
  "nbformat": 4,
  "nbformat_minor": 0,
  "metadata": {
    "colab": {
      "name": "Sympy_introduction.ipynb",
      "provenance": [],
      "collapsed_sections": []
    },
    "kernelspec": {
      "name": "python3",
      "display_name": "Python 3"
    },
    "language_info": {
      "name": "python"
    }
  },
  "cells": [
    {
      "cell_type": "markdown",
      "source": [
        "## Introduction to Sympy"
      ],
      "metadata": {
        "id": "LrNO6He7dS7z"
      }
    },
    {
      "cell_type": "code",
      "execution_count": 38,
      "metadata": {
        "id": "3bGh7WG6c61c"
      },
      "outputs": [],
      "source": [
        "# import the sympy package \n",
        "import sympy as sym\n",
        "\n",
        "# import additional functions for nice printing\n",
        "from IPython.display import display, Math"
      ]
    },
    {
      "cell_type": "code",
      "source": [
        "# create symbolic variable\n",
        "\n",
        "x = sym.symbols('x')\n",
        "y = sym.symbols('y')\n",
        "a,b,c = sym.symbols('a,b,c')\n",
        "print(type(x))\n",
        "print(type(a))\n",
        "print(type(b))\n",
        "print(type(c))"
      ],
      "metadata": {
        "colab": {
          "base_uri": "https://localhost:8080/"
        },
        "id": "GR69vsvgenT6",
        "outputId": "15fc1770-fde5-464d-8116-3f908ebbf2a3"
      },
      "execution_count": 39,
      "outputs": [
        {
          "output_type": "stream",
          "name": "stdout",
          "text": [
            "<class 'sympy.core.symbol.Symbol'>\n",
            "<class 'sympy.core.symbol.Symbol'>\n",
            "<class 'sympy.core.symbol.Symbol'>\n",
            "<class 'sympy.core.symbol.Symbol'>\n"
          ]
        }
      ]
    },
    {
      "cell_type": "code",
      "source": [
        "# x doesn't have a value, it's just a symbol\n",
        "\n",
        "x + 4"
      ],
      "metadata": {
        "colab": {
          "base_uri": "https://localhost:8080/",
          "height": 39
        },
        "id": "mufLIdsVe2PD",
        "outputId": "84dab13f-37dc-4b1d-81b8-9d2f34057358"
      },
      "execution_count": 40,
      "outputs": [
        {
          "output_type": "execute_result",
          "data": {
            "text/plain": [
              "x + 4"
            ],
            "image/png": "[encoded data removed]",
            "text/latex": "$\\displaystyle x + 4$"
          },
          "metadata": {},
          "execution_count": 40
        }
      ]
    },
    {
      "cell_type": "code",
      "source": [
        "# Fancy printing\n",
        "\n",
        "sym.init_printing()\n",
        "x+4"
      ],
      "metadata": {
        "colab": {
          "base_uri": "https://localhost:8080/",
          "height": 39
        },
        "id": "rqoXqu8dfIVK",
        "outputId": "561559f6-1774-4e2a-9fe0-95d3dad51be7"
      },
      "execution_count": 41,
      "outputs": [
        {
          "output_type": "execute_result",
          "data": {
            "text/plain": [
              "x + 4"
            ],
            "image/png": "[encoded data removed]",
            "text/latex": "$\\displaystyle x + 4$"
          },
          "metadata": {},
          "execution_count": 41
        }
      ]
    },
    {
      "cell_type": "code",
      "source": [
        "# display function\n",
        "\n",
        "display(x**4)\n",
        "display(x*4)\n",
        "display(x/4)\n",
        "display(sym.sqrt(4)*x)\n",
        "display(sym.sqrt(2))\n",
        "display(y*x**2)\n",
        "display(sym.sqrt(x)*sym.sqrt(x))"
      ],
      "metadata": {
        "colab": {
          "base_uri": "https://localhost:8080/",
          "height": 177
        },
        "id": "LtYAEtHzq_h7",
        "outputId": "545a3a50-5b70-4413-b70d-2a4294364415"
      },
      "execution_count": 42,
      "outputs": [
        {
          "output_type": "display_data",
          "data": {
            "text/plain": [
              " 4\n",
              "x "
            ],
            "image/png": "[encoded data removed]",
            "text/latex": "$\\displaystyle x^{4}$"
          },
          "metadata": {}
        },
        {
          "output_type": "display_data",
          "data": {
            "text/plain": [
              "4⋅x"
            ],
            "image/png": "[encoded data removed]",
            "text/latex": "$\\displaystyle 4 x$"
          },
          "metadata": {}
        },
        {
          "output_type": "display_data",
          "data": {
            "text/plain": [
              "x\n",
              "─\n",
              "4"
            ],
            "image/png": "[encoded data removed]",
            "text/latex": "$\\displaystyle \\frac{x}{4}$"
          },
          "metadata": {}
        },
        {
          "output_type": "display_data",
          "data": {
            "text/plain": [
              "2⋅x"
            ],
            "image/png": "[encoded data removed]",
            "text/latex": "$\\displaystyle 2 x$"
          },
          "metadata": {}
        },
        {
          "output_type": "display_data",
          "data": {
            "text/plain": [
              "√2"
            ],
            "image/png": "[encoded data removed]",
            "text/latex": "$\\displaystyle \\sqrt{2}$"
          },
          "metadata": {}
        },
        {
          "output_type": "display_data",
          "data": {
            "text/plain": [
              " 2  \n",
              "x ⋅y"
            ],
            "image/png": "[encoded data removed]",
            "text/latex": "$\\displaystyle x^{2} y$"
          },
          "metadata": {}
        },
        {
          "output_type": "display_data",
          "data": {
            "text/plain": [
              "x"
            ],
            "image/png": "[encoded data removed]",
            "text/latex": "$\\displaystyle x$"
          },
          "metadata": {}
        }
      ]
    },
    {
      "cell_type": "code",
      "source": [
        "# let's compare with numpy\n",
        "\n",
        "import numpy as np\n",
        "display(np.sqrt(2))\n",
        "display(sym.sqrt(2))"
      ],
      "metadata": {
        "colab": {
          "base_uri": "https://localhost:8080/",
          "height": 58
        },
        "id": "C15pgbg2rF0D",
        "outputId": "9c26b26c-5afa-44f6-d09c-f1ce99b974fd"
      },
      "execution_count": 43,
      "outputs": [
        {
          "output_type": "display_data",
          "data": {
            "text/plain": [
              "1.4142135623730951"
            ],
            "image/png": "[encoded data removed]",
            "text/latex": "$\\displaystyle 1.4142135623731$"
          },
          "metadata": {}
        },
        {
          "output_type": "display_data",
          "data": {
            "text/plain": [
              "√2"
            ],
            "image/png": "[encoded data removed]",
            "text/latex": "$\\displaystyle \\sqrt{2}$"
          },
          "metadata": {}
        }
      ]
    },
    {
      "cell_type": "code",
      "source": [
        "mu, sigma, alpha = sym.symbols('mu, sigma, alpha')\n",
        "expr = sym.exp((mu-alpha)**2 / (2*sigma**2))\n",
        "display(expr)"
      ],
      "metadata": {
        "id": "iHv7-QPO1LJR",
        "colab": {
          "base_uri": "https://localhost:8080/",
          "height": 46
        },
        "outputId": "d46d17c7-9bef-4257-ef55-ce028908ad11"
      },
      "execution_count": 44,
      "outputs": [
        {
          "output_type": "display_data",
          "data": {
            "text/plain": [
              "         2\n",
              " (-α + μ) \n",
              " ─────────\n",
              "       2  \n",
              "    2⋅σ   \n",
              "ℯ         "
            ],
            "image/png": "[encoded data removed]",
            "text/latex": "$\\displaystyle e^{\\frac{\\left(- \\alpha + \\mu\\right)^{2}}{2 \\sigma^{2}}}$"
          },
          "metadata": {}
        }
      ]
    },
    {
      "cell_type": "code",
      "source": [
        "# substitute values for symbolic variables\n",
        "\n",
        "x,y,z = sym.symbols('x,y,z')\n",
        "expr = x + y + z\n",
        "expr.subs({x:2, y:3, z:4})"
      ],
      "metadata": {
        "colab": {
          "base_uri": "https://localhost:8080/",
          "height": 37
        },
        "id": "w6x_qYFomd6k",
        "outputId": "a42a4d51-545e-412a-81e0-6e8c7460de77"
      },
      "execution_count": 45,
      "outputs": [
        {
          "output_type": "execute_result",
          "data": {
            "text/plain": [
              "9"
            ],
            "image/png": "[encoded data removed]",
            "text/latex": "$\\displaystyle 9$"
          },
          "metadata": {},
          "execution_count": 45
        }
      ]
    },
    {
      "cell_type": "code",
      "source": [
        "# to get the LaTeX code of an expression\n",
        "\n",
        "ex = 3/y\n",
        "sym.latex(ex)"
      ],
      "metadata": {
        "colab": {
          "base_uri": "https://localhost:8080/",
          "height": 35
        },
        "id": "x7UvUmHynmyN",
        "outputId": "622ee16d-c467-44bc-f56d-673c9f9bea5a"
      },
      "execution_count": 46,
      "outputs": [
        {
          "output_type": "execute_result",
          "data": {
            "text/plain": [
              "'\\\\frac{3}{y}'"
            ],
            "application/vnd.google.colaboratory.intrinsic+json": {
              "type": "string"
            }
          },
          "metadata": {},
          "execution_count": 46
        }
      ]
    },
    {
      "cell_type": "code",
      "source": [
        "# right arrow \n",
        "\n",
        "for i in range(-2,3):\n",
        "  expr = x**2 + 4\n",
        "  display(Math('\\\\text{with } x=%g, \\\\quad x^2+4 \\\\quad \\\\Rightarrow \\\\quad %g^2+4=%g'%(i,i, expr.subs({x:i}))))"
      ],
      "metadata": {
        "colab": {
          "base_uri": "https://localhost:8080/",
          "height": 125
        },
        "id": "HpJNDKlzouzb",
        "outputId": "c420fd7c-0ec2-43eb-b174-abe4fcc73f33"
      },
      "execution_count": 47,
      "outputs": [
        {
          "output_type": "display_data",
          "data": {
            "text/plain": [
              "<IPython.core.display.Math object>"
            ],
            "text/latex": "$$\\text{with } x=-2, \\quad x^2+4 \\quad \\Rightarrow \\quad -2^2+4=8$$"
          },
          "metadata": {}
        },
        {
          "output_type": "display_data",
          "data": {
            "text/plain": [
              "<IPython.core.display.Math object>"
            ],
            "text/latex": "$$\\text{with } x=-1, \\quad x^2+4 \\quad \\Rightarrow \\quad -1^2+4=5$$"
          },
          "metadata": {}
        },
        {
          "output_type": "display_data",
          "data": {
            "text/plain": [
              "<IPython.core.display.Math object>"
            ],
            "text/latex": "$$\\text{with } x=0, \\quad x^2+4 \\quad \\Rightarrow \\quad 0^2+4=4$$"
          },
          "metadata": {}
        },
        {
          "output_type": "display_data",
          "data": {
            "text/plain": [
              "<IPython.core.display.Math object>"
            ],
            "text/latex": "$$\\text{with } x=1, \\quad x^2+4 \\quad \\Rightarrow \\quad 1^2+4=5$$"
          },
          "metadata": {}
        },
        {
          "output_type": "display_data",
          "data": {
            "text/plain": [
              "<IPython.core.display.Math object>"
            ],
            "text/latex": "$$\\text{with } x=2, \\quad x^2+4 \\quad \\Rightarrow \\quad 2^2+4=8$$"
          },
          "metadata": {}
        }
      ]
    },
    {
      "cell_type": "code",
      "source": [
        "# Law of exponents\n",
        "\n",
        "x,y,z = sym.symbols('x,y,z')\n",
        "display(sym.simplify((x**y) * (x**z)))\n",
        "display(sym.simplify(x**y/x**z))\n",
        "display(sym.simplify((x**y)**z))\n",
        "display(sym.simplify(x**(1/z)))\n",
        "display(sym.simplify(1/x**-y))"
      ],
      "metadata": {
        "colab": {
          "base_uri": "https://localhost:8080/",
          "height": 127
        },
        "id": "jjM9bfuHZucO",
        "outputId": "88e985d9-e9eb-4138-c67e-1a64df4290fe"
      },
      "execution_count": 76,
      "outputs": [
        {
          "output_type": "display_data",
          "data": {
            "text/plain": [
              " y + z\n",
              "x     "
            ],
            "image/png": "[encoded data removed]",
            "text/latex": "$\\displaystyle x^{y + z}$"
          },
          "metadata": {}
        },
        {
          "output_type": "display_data",
          "data": {
            "text/plain": [
              " y - z\n",
              "x     "
            ],
            "image/png": "[encoded data removed]",
            "text/latex": "$\\displaystyle x^{y - z}$"
          },
          "metadata": {}
        },
        {
          "output_type": "display_data",
          "data": {
            "text/plain": [
              "    z\n",
              "⎛ y⎞ \n",
              "⎝x ⎠ "
            ],
            "image/png": "[encoded data removed]",
            "text/latex": "$\\displaystyle \\left(x^{y}\\right)^{z}$"
          },
          "metadata": {}
        },
        {
          "output_type": "display_data",
          "data": {
            "text/plain": [
              "z ___\n",
              "╲╱ x "
            ],
            "image/png": "[encoded data removed]",
            "text/latex": "$\\displaystyle x^{\\frac{1}{z}}$"
          },
          "metadata": {}
        },
        {
          "output_type": "display_data",
          "data": {
            "text/plain": [
              " y\n",
              "x "
            ],
            "image/png": "[encoded data removed]",
            "text/latex": "$\\displaystyle x^{y}$"
          },
          "metadata": {}
        }
      ]
    },
    {
      "cell_type": "code",
      "source": [
        ""
      ],
      "metadata": {
        "id": "BCZBONqTlaFj"
      },
      "execution_count": null,
      "outputs": []
    }
  ]
}