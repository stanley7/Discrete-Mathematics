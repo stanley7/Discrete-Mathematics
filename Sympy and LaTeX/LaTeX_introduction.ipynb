{
  "nbformat": 4,
  "nbformat_minor": 0,
  "metadata": {
    "colab": {
      "name": "LaTeX_introduction.ipynb",
      "provenance": [],
      "collapsed_sections": []
    },
    "kernelspec": {
      "name": "python3",
      "display_name": "Python 3"
    },
    "language_info": {
      "name": "python"
    }
  },
  "cells": [
    {
      "cell_type": "code",
      "execution_count": 3,
      "metadata": {
        "id": "TehSgW6zx6qU"
      },
      "outputs": [],
      "source": [
        "from IPython.display import display, Math"
      ]
    },
    {
      "cell_type": "code",
      "source": [
        "# Basic LaTeX coding\n",
        "\n",
        "display(Math('4 + 3 = 7'))\n",
        "display(Math('5 \\\\times 5 = 25'))\n",
        "display(Math('2x + y = 36'))\n",
        "display(Math('x^y'))"
      ],
      "metadata": {
        "colab": {
          "base_uri": "https://localhost:8080/",
          "height": 101
        },
        "id": "IGo7Wko8yJcj",
        "outputId": "0fe08724-5b9a-4bbb-aa72-57523e9c9568"
      },
      "execution_count": 14,
      "outputs": [
        {
          "output_type": "display_data",
          "data": {
            "text/plain": [
              "<IPython.core.display.Math object>"
            ],
            "text/latex": "$$4 + 3 = 7$$"
          },
          "metadata": {}
        },
        {
          "output_type": "display_data",
          "data": {
            "text/plain": [
              "<IPython.core.display.Math object>"
            ],
            "text/latex": "$$5 \\times 5 = 25$$"
          },
          "metadata": {}
        },
        {
          "output_type": "display_data",
          "data": {
            "text/plain": [
              "<IPython.core.display.Math object>"
            ],
            "text/latex": "$$2x + y = 36$$"
          },
          "metadata": {}
        },
        {
          "output_type": "display_data",
          "data": {
            "text/plain": [
              "<IPython.core.display.Math object>"
            ],
            "text/latex": "$$x^y$$"
          },
          "metadata": {}
        }
      ]
    },
    {
      "cell_type": "code",
      "source": [
        "# special characters are indicated using \\\\\n",
        "\n",
        "display(Math('\\\\sigma = \\\\mu \\\\times \\\\sqrt{5}'))\n",
        "display(Math('\\\\mu = x \\\\times \\\\sqrt{5x + 3z -17u}'))\n",
        "display(Math('\\\\sqrt{x}\\\\sqrt{y}'))"
      ],
      "metadata": {
        "colab": {
          "base_uri": "https://localhost:8080/",
          "height": 82
        },
        "id": "6lEMM6cFyw2C",
        "outputId": "7d8ffdc1-c8e3-4a74-bc4e-84f75f8c7cc7"
      },
      "execution_count": 26,
      "outputs": [
        {
          "output_type": "display_data",
          "data": {
            "text/plain": [
              "<IPython.core.display.Math object>"
            ],
            "text/latex": "$$\\sigma = \\mu \\times \\sqrt{5}$$"
          },
          "metadata": {}
        },
        {
          "output_type": "display_data",
          "data": {
            "text/plain": [
              "<IPython.core.display.Math object>"
            ],
            "text/latex": "$$\\mu = x \\times \\sqrt{5x + 3z -17u}$$"
          },
          "metadata": {}
        },
        {
          "output_type": "display_data",
          "data": {
            "text/plain": [
              "<IPython.core.display.Math object>"
            ],
            "text/latex": "$$\\sqrt{x}\\sqrt{y}$$"
          },
          "metadata": {}
        }
      ]
    },
    {
      "cell_type": "code",
      "source": [
        "# Subscripts\n",
        "\n",
        "display(Math('x_my'))\n",
        "display(Math('x_{mm}'))"
      ],
      "metadata": {
        "colab": {
          "base_uri": "https://localhost:8080/",
          "height": 60
        },
        "id": "G290W-Hozf57",
        "outputId": "0789f4f7-e2ad-4d41-8b23-16678e363ef2"
      },
      "execution_count": 21,
      "outputs": [
        {
          "output_type": "display_data",
          "data": {
            "text/plain": [
              "<IPython.core.display.Math object>"
            ],
            "text/latex": "$$x_my$$"
          },
          "metadata": {}
        },
        {
          "output_type": "display_data",
          "data": {
            "text/plain": [
              "<IPython.core.display.Math object>"
            ],
            "text/latex": "$$x_{mm}$$"
          },
          "metadata": {}
        }
      ]
    },
    {
      "cell_type": "code",
      "source": [
        "# Superscripts\n",
        "\n",
        "display(Math('x^y'))\n",
        "display(Math('x^{ab}'))\n",
        "display(Math('y ^ {5x^2 + 6c}'))"
      ],
      "metadata": {
        "colab": {
          "base_uri": "https://localhost:8080/",
          "height": 83
        },
        "id": "3HcdYkguzxWG",
        "outputId": "231612b4-1459-4edb-fd27-8046ee6794f9"
      },
      "execution_count": 22,
      "outputs": [
        {
          "output_type": "display_data",
          "data": {
            "text/plain": [
              "<IPython.core.display.Math object>"
            ],
            "text/latex": "$$x^y$$"
          },
          "metadata": {}
        },
        {
          "output_type": "display_data",
          "data": {
            "text/plain": [
              "<IPython.core.display.Math object>"
            ],
            "text/latex": "$$x^{ab}$$"
          },
          "metadata": {}
        },
        {
          "output_type": "display_data",
          "data": {
            "text/plain": [
              "<IPython.core.display.Math object>"
            ],
            "text/latex": "$$y ^ {5x^2 + 6c}$$"
          },
          "metadata": {}
        }
      ]
    },
    {
      "cell_type": "code",
      "source": [
        "display(Math('x_{ab} + y^{ab}'))"
      ],
      "metadata": {
        "colab": {
          "base_uri": "https://localhost:8080/",
          "height": 39
        },
        "id": "6DvZdwo7z1h9",
        "outputId": "93d40032-3615-43f0-ba88-8136ae4cf00b"
      },
      "execution_count": 23,
      "outputs": [
        {
          "output_type": "display_data",
          "data": {
            "text/plain": [
              "<IPython.core.display.Math object>"
            ],
            "text/latex": "$$x_{ab} + y^{ab}$$"
          },
          "metadata": {}
        }
      ]
    },
    {
      "cell_type": "code",
      "source": [
        "# Fractions\n",
        "\n",
        "display(Math('\\\\frac{2}{4}'))\n",
        "display(Math('\\\\frac{1+x}{2v-sz+x}'))"
      ],
      "metadata": {
        "colab": {
          "base_uri": "https://localhost:8080/",
          "height": 61
        },
        "id": "u98j-YMKz4e1",
        "outputId": "19771407-14ef-493c-9a23-592c480d3155"
      },
      "execution_count": 30,
      "outputs": [
        {
          "output_type": "display_data",
          "data": {
            "text/plain": [
              "<IPython.core.display.Math object>"
            ],
            "text/latex": "$$\\frac{2}{4}$$"
          },
          "metadata": {}
        },
        {
          "output_type": "display_data",
          "data": {
            "text/plain": [
              "<IPython.core.display.Math object>"
            ],
            "text/latex": "$$\\frac{1+x}{2v-sz+x}$$"
          },
          "metadata": {}
        }
      ]
    },
    {
      "cell_type": "code",
      "source": [
        "# Regular text requires a special tag \\\\text\n",
        "\n",
        "display(Math('\\\\text{The answer to this equation is } \\\\frac{2}{\\\\sqrt{3}+5} = \\\\frac{5-\\\\sqrt{3}}{8}'))"
      ],
      "metadata": {
        "colab": {
          "base_uri": "https://localhost:8080/",
          "height": 44
        },
        "id": "9Xx5qfAr26IP",
        "outputId": "c056136b-c5ac-4eef-c4b1-502e9b75b18c"
      },
      "execution_count": 39,
      "outputs": [
        {
          "output_type": "display_data",
          "data": {
            "text/plain": [
              "<IPython.core.display.Math object>"
            ],
            "text/latex": "$$\\text{The answer to this equation is } \\frac{2}{\\sqrt{3}+5} = \\frac{5-\\sqrt{3}}{8}$$"
          },
          "metadata": {}
        }
      ]
    },
    {
      "cell_type": "code",
      "source": [
        "# sin and theta\n",
        "\n",
        "display(Math('\\\\sin 2 \\\\pi f + \\\\theta'))"
      ],
      "metadata": {
        "colab": {
          "base_uri": "https://localhost:8080/",
          "height": 39
        },
        "id": "pe0gVQ5m4b66",
        "outputId": "aa78a2e8-7c8b-46e5-f905-f7f7b693ba92"
      },
      "execution_count": 41,
      "outputs": [
        {
          "output_type": "display_data",
          "data": {
            "text/plain": [
              "<IPython.core.display.Math object>"
            ],
            "text/latex": "$$\\sin 2 \\pi f + \\theta$$"
          },
          "metadata": {}
        }
      ]
    }
  ]
}